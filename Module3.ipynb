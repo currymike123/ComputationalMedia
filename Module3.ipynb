{
 "cells": [
  {
   "attachments": {},
   "cell_type": "markdown",
   "metadata": {},
   "source": [
    "# Functions\n",
    "****"
   ]
  },
  {
   "attachments": {},
   "cell_type": "markdown",
   "metadata": {},
   "source": [
    "A <b>function</b> is a set of code within a program that performs a specific task.  They are also reusable and can be used over and over again.  Functions are a powerful programming tool that make programs easier to read and change."
   ]
  },
  {
   "attachments": {},
   "cell_type": "markdown",
   "metadata": {},
   "source": [
    "Processing has two main functions that form the backbone of the language:  <b><em>setup()<em></b> and <b><em>draw()<em></b>.\n",
    "\n",
    "The code inside <em>setup()<em> runs once when the program first starts.  The size of the display window is set along with intitalizing global variables used in the program.\n",
    "\n",
    "The code inside <em>draw()<em> runs continuously in a loop and draws one image to the display window at the end of each loop."
   ]
  },
  {
   "attachments": {},
   "cell_type": "markdown",
   "metadata": {},
   "source": [
    "Arguements and Parameters."
   ]
  },
  {
   "attachments": {},
   "cell_type": "markdown",
   "metadata": {},
   "source": [
    "Function declarations.  Draw and setup are preceeding by the keyword void.  This is a Java programming keyword to specify if a function returns and values.  If so, what type \n",
    "\n",
    "Draw and setup are preceeded by the keyword <b><em>void</em></b> this indicates that the function does not return a value.  Other keywords include boolean, int, float, and all other primitive data types.  Functions can also return objects but we will discuss that later."
   ]
  }
 ],
 "metadata": {
  "kernelspec": {
   "display_name": "Python 3",
   "language": "python",
   "name": "python3"
  },
  "language_info": {
   "name": "python",
   "version": "3.9.1 (v3.9.1:1e5d33e9b9, Dec  7 2020, 12:10:52) \n[Clang 6.0 (clang-600.0.57)]"
  },
  "orig_nbformat": 4,
  "vscode": {
   "interpreter": {
    "hash": "949777d72b0d2535278d3dc13498b2535136f6dfe0678499012e853ee9abcab1"
   }
  }
 },
 "nbformat": 4,
 "nbformat_minor": 2
}
