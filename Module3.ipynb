{
 "cells": [
  {
   "attachments": {},
   "cell_type": "markdown",
   "metadata": {},
   "source": [
    "# Decisions & Repetition\n",
    "****"
   ]
  },
  {
   "attachments": {},
   "cell_type": "markdown",
   "metadata": {},
   "source": [
    "### Control Structures\n",
    "\n",
    "The flow of a program can be altered by adding elements to your code called <b>control structures</b>.\n",
    "\n",
    "<b><</b> (greater than)<br>\n",
    "<b>></b> (less than)<br>\n",
    "<b>==</b> (equality)<br>\n",
    "<b>>=</b> (greater than or equal to)<br>\n",
    "<b><=</b> (less than of equal to)<br>\n",
    "<b>!=</b> (inequality)<br>\n",
    "<b>if, else,</b> {}<br>\n",
    "<b>||</b> (logical OR)<br>\n",
    "<b>&&</b> (logical AND)<br>\n",
    " <b>!</b> (logical NOT)"
   ]
  },
  {
   "attachments": {},
   "cell_type": "markdown",
   "metadata": {},
   "source": [
    "### Conditionals\n",
    "\n",
    "Allow a program to make decisions about what lines of code run and which do not.  \n",
    "\n",
    "#### if statement\n",
    "\n",
    "```\n",
    "if(test){\n",
    "    statements\n",
    "}\n",
    "```\n",
    "\n",
    "#### if/else statement\n",
    "```\n",
    "if(test){\n",
    "    statement\n",
    "} else{\n",
    "    statement\n",
    "}\n",
    "```\n",
    "\n",
    "#### if/else if statement\n",
    "\n",
    "```\n",
    "if(test){\n",
    "    statement\n",
    "} else if(test){\n",
    "    statement\n",
    "} else{\n",
    "    statement\n",
    "}"
   ]
  },
  {
   "attachments": {},
   "cell_type": "markdown",
   "metadata": {},
   "source": [
    "### Loops\n",
    "\n",
    "For Loop\n",
    "\n",
    "While Loop"
   ]
  }
 ],
 "metadata": {
  "kernelspec": {
   "display_name": "Python 3",
   "language": "python",
   "name": "python3"
  },
  "language_info": {
   "name": "python",
   "version": "3.9.1 (v3.9.1:1e5d33e9b9, Dec  7 2020, 12:10:52) \n[Clang 6.0 (clang-600.0.57)]"
  },
  "orig_nbformat": 4,
  "vscode": {
   "interpreter": {
    "hash": "949777d72b0d2535278d3dc13498b2535136f6dfe0678499012e853ee9abcab1"
   }
  }
 },
 "nbformat": 4,
 "nbformat_minor": 2
}
