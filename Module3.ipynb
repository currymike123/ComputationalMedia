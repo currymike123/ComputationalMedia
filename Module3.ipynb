{
 "cells": [
  {
   "attachments": {},
   "cell_type": "markdown",
   "metadata": {},
   "source": [
    "# Decisions & Iteration\n",
    "****"
   ]
  },
  {
   "attachments": {},
   "cell_type": "markdown",
   "metadata": {},
   "source": [
    "### Control Structures\n",
    "\n",
    "The flow of a program can be altered by adding elements to your code called <b>control structures</b>.\n",
    "\n",
    "<b><</b> (greater than)<br>\n",
    "<b>></b> (less than)<br>\n",
    "<b>==</b> (equality)<br>\n",
    "<b>>=</b> (greater than or equal to)<br>\n",
    "<b><=</b> (less than of equal to)<br>\n",
    "<b>!=</b> (inequality)<br>\n",
    "<b>if, else,</b> {}<br>\n",
    "<b>||</b> (logical OR)<br>\n",
    "<b>&&</b> (logical AND)<br>\n",
    " <b>!</b> (logical NOT)"
   ]
  },
  {
   "attachments": {},
   "cell_type": "markdown",
   "metadata": {},
   "source": [
    "### Conditionals\n",
    "\n",
    "Allow a program to make decisions about what lines of code run and which do not.  \n",
    "\n",
    "#### if statement\n",
    "\n",
    "```\n",
    "if(test){\n",
    "    statements\n",
    "}\n",
    "```\n",
    "\n",
    "#### if/else statement\n",
    "```\n",
    "if(test){\n",
    "    statement\n",
    "} else{\n",
    "    statement\n",
    "}\n",
    "```\n",
    "\n",
    "#### if/else if statement\n",
    "\n",
    "```\n",
    "if(test){\n",
    "    statement\n",
    "} else if(test){\n",
    "    statement\n",
    "} else{\n",
    "    statement\n",
    "}"
   ]
  },
  {
   "attachments": {},
   "cell_type": "markdown",
   "metadata": {},
   "source": [
    "### Iteration\n",
    "\n",
    "Iterative structures allow you to compress repetitive code.  \n",
    "\n",
    "<b>For Loop</b>\n",
    "```\n",
    "for(init; test; update){\n",
    "    statements\n",
    "}\n",
    "```\n",
    "\n",
    "1.  The init statement is run.\n",
    "2.  The test is evaluated true or false.\n",
    "3.  If true, continue to 4. If false, jump to 6.\n",
    "4.  Run the statements in the block.\n",
    "5.  Run the update statement and jump to 2.\n",
    "6.  Exit the structure.\n",
    "\n",
    "<b>Original Code</b>\n",
    "```\n",
    "size(200,200);\n",
    "line(20,20,20,180);\n",
    "line(30,20,30,180);\n",
    "line(40,20,40,180);\n",
    "line(50,20,50,180);\n",
    "```\n",
    "\n",
    "<b>Converted to for loop</b>\n",
    "```\n",
    "size(200,200);\n",
    "for(int i = 20; i < 60; i += 20){\n",
    "    line(i, 20, i, 180);\n",
    "}\n",
    "```\n",
    "\n",
    "<b>Nested for loop</b>\n",
    "```\n",
    "size(100,100)\n",
    "for(int y = 10; y < 100; y += 10){\n",
    "    point(10, y);\n",
    "}\n",
    "\n",
    "for(int x = 10; x < 100; x += 10){\n",
    "    point(x, 10);\n",
    "}\n",
    "\n",
    "for(int y = 10; y < 100; y += 10){\n",
    "    for(int x = 10; x < 100; x += 10){\n",
    "        point(x,y);\n",
    "    }\n",
    "}\n",
    "```\n",
    "<b>While Loop</b>\n",
    "\n",
    "```\n",
    "size(100,100)\n",
    "int i = 20;\n",
    "\n",
    "while (i < 60) { \n",
    "  line (i, 20, i , 180);\n",
    "  i = i + 20;\n",
    "}\n",
    "```"
   ]
  },
  {
   "attachments": {},
   "cell_type": "markdown",
   "metadata": {},
   "source": [
    "### Implement for loop in drawing.\n",
    "\n",
    "Let's use the loops to create Vera Molnar's  (Des) Ordes, 1974.\n",
    "\n",
    "[Vera Molnar](https://dam.org/museum/artists_ui/artists/molnar-vera/des-ordres/)\n",
    "\n",
    "<img src=\"images/vera.png\">"
   ]
  }
 ],
 "metadata": {
  "kernelspec": {
   "display_name": "Python 3",
   "language": "python",
   "name": "python3"
  },
  "language_info": {
   "name": "python",
   "version": "3.9.1 (v3.9.1:1e5d33e9b9, Dec  7 2020, 12:10:52) \n[Clang 6.0 (clang-600.0.57)]"
  },
  "orig_nbformat": 4,
  "vscode": {
   "interpreter": {
    "hash": "949777d72b0d2535278d3dc13498b2535136f6dfe0678499012e853ee9abcab1"
   }
  }
 },
 "nbformat": 4,
 "nbformat_minor": 2
}
