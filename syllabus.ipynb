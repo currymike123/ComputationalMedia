{
 "cells": [
  {
   "attachments": {},
   "cell_type": "markdown",
   "metadata": {},
   "source": [
    "# Intro to Computation for Media <br>\n",
    "\n",
    "DDF220-01 <br>\n",
    "3 Credit Hours<br> \n",
    "M-R  12:30 PM-1:45 PM <br>\n",
    "Smiley Arts 100 <br> \n",
    "\n",
    "Michael Curry: currym6@newpaltz.edu<br>\n",
    "<hr>"
   ]
  },
  {
   "attachments": {},
   "cell_type": "markdown",
   "metadata": {},
   "source": [
    "### Course Description\n",
    "This course will serve as an introduction for programming for the digital arts in a visual context.  Students will learn the fundamentals of programming (variables, conditionals, loops and iteration) via the Processing programming language.  Further exploration will apply new skills towards image processing, interactivity, graphics, and sound. "
   ]
  },
  {
   "attachments": {},
   "cell_type": "markdown",
   "metadata": {},
   "source": [
    "### Topics Covered\n",
    "\n",
    "<ol>\n",
    "<li>History of Computational Media</li>\n",
    "<li>Drawing Primitives</li>\n",
    "<li>Variables</li>\n",
    "<li>Data Structures</li>\n",
    "<li>Functions & Conditionals</li>\n",
    "<li>Images: Processing and Manipulation</li>\n",
    "<li>Motion & Animation</li>\n",
    "<li>Interaction</li>\n",
    "<li>Objects</li>\n",
    "<li>Video</li>\n",
    "<li>Sound</li>\n",
    "<li>Generative Systems</li>\n",
    "</ol>"
   ]
  },
  {
   "attachments": {},
   "cell_type": "markdown",
   "metadata": {},
   "source": [
    "### Texts \n",
    "Processing: A Programming Handbook for Visual Designers and Artists by Casey Reas & Ben Fry<br>\n",
    "\n",
    "Learning Processing by Daniel Shiffman & Morgan Kaufmann <br>\n",
    "\n",
    "*PDF's will be provided"
   ]
  },
  {
   "attachments": {},
   "cell_type": "markdown",
   "metadata": {},
   "source": [
    "### Grading and Attendance\n",
    "\n",
    "<ol>\n",
    "<li>Homework: 25% </li>\n",
    "<li>Quizzes and In Class Projects: 25%</li>\n",
    "<li>Final Project: 40%</li>\n",
    "<li>Attendance and Participation: 10%</li>\n",
    "</ol>\n",
    "\n",
    "<b>All work must be your own!</b> Coding is a collaborative process and solutions for common problems are widely available.  If you borrow code use a comment to let me know.  Don't represent others work as your own.<br>\n",
    "\n",
    "Along with your code each assignment/project must have extensive comments describing what your code is accomplishing and why you made the design decisions.  I want to understand your thinking and read the story of your code.<br>\n",
    "\n",
    "Due Dates will be given in class and posted.  <b>Late work will not be accepted!</b>  If you are having an issue contact me.  If your code is not working by the due date submit what you have, including comments for the sections with errors.<br>\n",
    "\n",
    "Files should be submitted in a folder using the following naming convention: LastName_FirstName  (ex. Curry_Michael) \n",
    "\n"
   ]
  }
 ],
 "metadata": {
  "kernelspec": {
   "display_name": "Python 3",
   "language": "python",
   "name": "python3"
  },
  "language_info": {
   "codemirror_mode": {
    "name": "ipython",
    "version": 3
   },
   "file_extension": ".py",
   "mimetype": "text/x-python",
   "name": "python",
   "nbconvert_exporter": "python",
   "pygments_lexer": "ipython3",
   "version": "3.9.1 (v3.9.1:1e5d33e9b9, Dec  7 2020, 12:10:52) \n[Clang 6.0 (clang-600.0.57)]"
  },
  "orig_nbformat": 4,
  "vscode": {
   "interpreter": {
    "hash": "949777d72b0d2535278d3dc13498b2535136f6dfe0678499012e853ee9abcab1"
   }
  }
 },
 "nbformat": 4,
 "nbformat_minor": 2
}
