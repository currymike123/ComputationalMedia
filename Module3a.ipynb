{
 "cells": [
  {
   "attachments": {},
   "cell_type": "markdown",
   "metadata": {},
   "source": [
    "# Iterative Design\n",
    "****\n"
   ]
  },
  {
   "attachments": {},
   "cell_type": "markdown",
   "metadata": {},
   "source": [
    "Pattern is the starting point from which we perceive and impose order in the world.  Examples of functional, decorative, and expressive patter-making date from ancient times and take form in mosaics, calenders, tapestry, quilting, jewelry, calligraphy, furniture, and architecture.  There is an intimate connection between pattern design, visual rhythm, geometry, mathematics, and iterative algorithms. "
   ]
  },
  {
   "attachments": {},
   "cell_type": "markdown",
   "metadata": {},
   "source": [
    "Islamic Art:<br> https://patterninislamicart.com/s/published-material/published-material-colour<p>\n",
    "\n",
    "So Le Witt:<br> https://cindyhwang.info/lewitt-and-grid/essay/<br>https://www.artnet.com/artists/sol-lewitt/<p>\n",
    "\n",
    "George Ploya & MC Esher:<br> https://www.york.ac.uk/depts/maths/histstat/symmetry/schattschneider.pdf<p>\n",
    "\n",
    "Vera Molnar:<br>https://dam.org/museum/artists_ui/artists/molnar-vera/des-ordres/<p>\n",
    "\n",
    "Casey Reas:<br>https://reas.com/gray_coverage/"
   ]
  },
  {
   "attachments": {},
   "cell_type": "markdown",
   "metadata": {},
   "source": [
    "### Assignment\n",
    "\n",
    "Write code to generate a tiling pattern or textural composition, such as a wallpaper or fabric.  Give consideration to aesthetic issues like symmetry, rhythm, color; detail at multiple scales; precise control of shape; and the balance between organic and geometric form.<p>\n",
    "\n",
    "Your pattern should be designed so that it could be infinitely tiled or extended.  Design something you would like to put on your walls or floor, or that you imagine yourself wearing.  Export your pattern in a high-resolution format.  Remember to sketch first.<p>\n",
    "\n",
    "Your creation should use array, for loops, translate, along with any other processing functions you want to include.  \n",
    "\n"
   ]
  }
 ],
 "metadata": {
  "kernelspec": {
   "display_name": "Python 3",
   "language": "python",
   "name": "python3"
  },
  "language_info": {
   "name": "python",
   "version": "3.9.1"
  },
  "orig_nbformat": 4,
  "vscode": {
   "interpreter": {
    "hash": "949777d72b0d2535278d3dc13498b2535136f6dfe0678499012e853ee9abcab1"
   }
  }
 },
 "nbformat": 4,
 "nbformat_minor": 2
}
