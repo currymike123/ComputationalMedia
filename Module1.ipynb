{
 "cells": [
  {
   "attachments": {},
   "cell_type": "markdown",
   "metadata": {},
   "source": [
    "# Processing Language\n",
    "\n",
    "****"
   ]
  },
  {
   "attachments": {},
   "cell_type": "markdown",
   "metadata": {},
   "source": [
    "Processing relates software concepts to principles of visual form, motion, and interaction.  It integrates a programming language, development environment, and teaching methodology into a unified system.  Processing was created to teach fundamentals of computer programming within a visual context, to serve as a software sketchbook, and to used as a production tool.  - Reas/Fry (Processing Handbook)\n",
    "\n",
    "\n",
    "[PROCESSING](https://processing.org)\n",
    "\n",
    "[PROCESSING Reference](https://processing.org/reference)\n"
   ]
  },
  {
   "attachments": {},
   "cell_type": "markdown",
   "metadata": {},
   "source": [
    "### Interface\n",
    "\n",
    "The Processing Development Environment (PDE) consists of a simple text editor for writing code, a message area, a text console, tabs for managing files, a toolbar with buttons for common actions, and a series of menus.  When programs are run, they open a new window called the display window.\n",
    "\n",
    "<img src=\"Images/IDE.png\">\n",
    "\n",
    "[Processing IDE Description](https://processing.org/environment/#processing-development-environment-pde)\n",
    "\n",
    "#### Menu\n",
    "<ul>\n",
    "<li>Menu's to create new sketches, debug, edit, and add libraries</li>\n",
    "</ul>\n",
    "\n",
    "#### Toolbar\n",
    "<ul>\n",
    "<li><b>Play Button:</b> Compiles the code, opens a display window, and runs the program inside.</li>\n",
    "<li><b>Stop Button:</b> Terminates a running program.</li>\n",
    "<li><b>Bug Symbol:</b> Debugger to step through program.</li> \n",
    "<li><b>Mode Selector:</b> Select Java, P5.js, Python, etc.  This class will use Java.</li>\n",
    "</ul>\n",
    "\n",
    "#### Tabs\n",
    "<ul>\n",
    "<li>Break your code into different files.  Mainly used for separating classes.</li>\n",
    "</ul>\n",
    "\n",
    "#### Text Editor\n",
    "<ul>\n",
    "<li>Section to write your code.</li>\n",
    "</ul>\n",
    "\n",
    "#### Message Area\n",
    "<ul>\n",
    "<li>Gives feedback while saving and exporting and also displays errors.</li>\n",
    "</ul>\n",
    "\n",
    "\n",
    "#### Console\n",
    "<ul>\n",
    "<li>Displays text output by Processing sketches including complete error messages and text output from sketches with the print() and println() functions.</li>\n",
    "</ul>\n",
    "\n",
    "<hr>"
   ]
  },
  {
   "attachments": {},
   "cell_type": "markdown",
   "metadata": {},
   "source": [
    "#### Other Software and Languages\n",
    "\n",
    "[openFrameWorks](https://openframeworks.cc/)<br>\n",
    "[Touch Designer](https://derivative.ca/)<br>\n",
    "[Max](https://cycling74.com/)<br>\n"
   ]
  },
  {
   "attachments": {},
   "cell_type": "markdown",
   "metadata": {},
   "source": [
    "#### Media/Computational/Generative Artists\n",
    "\n",
    "[Steina & Woody Vaslika](https://www.vasulka.org/)<br>\n",
    "[Vera Molnar](http://www.veramolnar.com/)<br>\n",
    "[Lillian Schwartz](http://lillian.com/)<br>\n",
    "[Charles Cursi](https://www.charlescsuri.com/)<br>\n",
    "[Sol Lewitt](http://www.lewittcollection.org/)<br>\n",
    "[Herbert Franke](https://www.tribute-hwf.com/)<br>\n",
    "[Nam June Paik](https://www.paikstudios.com/)<br>\n",
    "[Manfred Mohr](http://www.emohr.com/)<br>\n",
    "[Casey Reas](https://reas.com/)<br>\n",
    "[Lauren McCarthy](https://lauren-mccarthy.com/)<br>\n",
    "[Zach Lieberman](http://zach.li/)<br>\n",
    "[Takeshi Murata](http://www.takeshimurata.com/)<br>\n",
    "[Cory Arcangel](https://coryarcangel.com/)<br>\n",
    "\n",
    "#### Collectives\n",
    "[Team Lab](https://www.teamlab.art/)<br>\n",
    "[Random International](https://www.random-international.com/)\n",
    "\n",
    "#### Shows/Galleries\n",
    "[Programmed: Rules, Codes, and Choreographies in Art](https://whitney.org/exhibitions/programmed)<br>\n",
    "[Bitforms Gallery](https://bitforms.art/)<br>\n",
    "[Currents New Media](https://currentsnewmedia.org/)\n"
   ]
  }
 ],
 "metadata": {
  "kernelspec": {
   "display_name": "Python 3",
   "language": "python",
   "name": "python3"
  },
  "language_info": {
   "name": "python",
   "version": "3.9.1 (v3.9.1:1e5d33e9b9, Dec  7 2020, 12:10:52) \n[Clang 6.0 (clang-600.0.57)]"
  },
  "orig_nbformat": 4,
  "vscode": {
   "interpreter": {
    "hash": "949777d72b0d2535278d3dc13498b2535136f6dfe0678499012e853ee9abcab1"
   }
  }
 },
 "nbformat": 4,
 "nbformat_minor": 2
}
