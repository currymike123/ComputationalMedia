{
 "cells": [
  {
   "attachments": {},
   "cell_type": "markdown",
   "metadata": {},
   "source": [
    "# Data Types & Variables\n",
    "\n",
    "****"
   ]
  },
  {
   "attachments": {},
   "cell_type": "markdown",
   "metadata": {},
   "source": [
    "### Data Types\n",
    "\n",
    "Processing can store and modify many different kinds of data, including numbers, letters, words, colors, image, fonts, and boolean values.\n",
    "\n",
    "#### Primitive Data Types\n",
    "| **Name** | **Size** | **Value Range** |\n",
    "| :-: | :-: | :-: | \n",
    "| boolean |  1 bit  |  true or false  | \n",
    "| byte |  8 bits  |  -128 to 127  |  \n",
    "| char |  16 bits  |  0 to 65535  |  \n",
    "| int |  32 bits  |  -2,147,483,648 to 2,147,483,647 |  \n",
    "| float |  32 bits  |  -3.4028235 to 3.4028235 |  \n",
    "| color | 32 bits | 16,777,216 colors |"
   ]
  },
  {
   "attachments": {},
   "cell_type": "markdown",
   "metadata": {},
   "source": [
    "### Variables\n",
    "\n",
    "A variable is a container for storing data.  Variables allow a data element to be reused many times within a program.\n",
    "\n",
    "// <b>Comments</b> are ignored by the computer but are important for people.  They allow you to tell the story of the program and write notes for others.\n",
    "\n",
    "```\n",
    "int x;  // Declare the variable x of type int\n",
    "float y; //Declare the variable y of type float\n",
    "boolean b; //Declare the variable b of type boolean\n",
    "x = 100;  //Assign the value 50 to x\n",
    "y = 12.6  //Assign the value 5.4 to y\n",
    "b = true;  //Assign the value true to b\n",
    "```"
   ]
  },
  {
   "attachments": {},
   "cell_type": "markdown",
   "metadata": {},
   "source": [
    "### Processing Variables\n",
    "\n",
    "```\n",
    "width  //stores the width of the display window\n",
    "height  //stores the height of the display window\n",
    "mouseX //stores the mouse position on the x axis\n",
    "mouseY //stores the mouse position on the y axis\n",
    "```\n"
   ]
  }
 ],
 "metadata": {
  "kernelspec": {
   "display_name": "Python 3",
   "language": "python",
   "name": "python3"
  },
  "language_info": {
   "name": "python",
   "version": "3.9.1 (v3.9.1:1e5d33e9b9, Dec  7 2020, 12:10:52) \n[Clang 6.0 (clang-600.0.57)]"
  },
  "orig_nbformat": 4,
  "vscode": {
   "interpreter": {
    "hash": "949777d72b0d2535278d3dc13498b2535136f6dfe0678499012e853ee9abcab1"
   }
  }
 },
 "nbformat": 4,
 "nbformat_minor": 2
}
