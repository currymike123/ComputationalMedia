{
 "cells": [
  {
   "attachments": {},
   "cell_type": "markdown",
   "metadata": {},
   "source": [
    "# Data Types, Variables, & Structures\n",
    "\n",
    "****"
   ]
  },
  {
   "attachments": {},
   "cell_type": "markdown",
   "metadata": {},
   "source": [
    "### Data Types\n",
    "\n",
    "Processing can store and modify many different kinds of data, including numbers, letters, words, colors, image, fonts, and boolean values.\n",
    "\n",
    "#### Primitive Data Types\n",
    "| **Name** | **Size** | **Value Range** |\n",
    "| :-: | :-: | :-: | \n",
    "| boolean |  1 bit  |  true or false  | \n",
    "| byte |  8 bits  |  0 - 255 numbers |  \n",
    "| char |  16 bits  |  keyboard characters  |  \n",
    "| int |  32 bits  |  Integer numbers |  \n",
    "| float |  32 bits  |  Real fractional numbers |  \n",
    "| color | 32 bits | Red, Green, Blue, and Alpha |\n",
    "| string | 64 bits | Set of characters that form a word |"
   ]
  },
  {
   "attachments": {},
   "cell_type": "markdown",
   "metadata": {},
   "source": [
    "### Variables\n",
    "\n",
    "A variable is a container for storing data.  Variables allow a data element to be reused many times within a program.\n",
    "\n",
    "// <b>Comments</b> are ignored by the computer but are important for people.  They allow you to tell the story of the program and write notes for others.\n",
    "\n",
    "```\n",
    "int x;  // Declare the variable x of type int\n",
    "float y; //Declare the variable y of type float\n",
    "boolean b; //Declare the variable b of type boolean\n",
    "x = 100;  //Assign the value 50 to x\n",
    "y = 12.6  //Assign the value 5.4 to y\n",
    "b = true;  //Assign the value true to b\n",
    "```\n",
    "\n",
    "A variable is first declared and then a value is assigned to it.  When a variable is declared the computer allocates a portion memory to store the variable according to its size.  \n",
    "\n",
    "A variable can be declared and assigned separately or at the same time.\n",
    "\n",
    "```\n",
    "int x;\n",
    "x = 100;\n",
    "```\n",
    "or\n",
    "```\n",
    "int x = 100;\n",
    "```\n",
    "\n",
    "#### Syntax\n",
    "Variables cannot begin with numbers.  By convention a variable name always begins with a lowercase letter.\n",
    "\n",
    "Two widely used formats are <bold>Camel Case</bold> and <bold>Snake Case</bold>.\n",
    "\n",
    "In <bold>Camel case</bold> the letter after a break is capitalized. \n",
    "\n",
    "```\n",
    "mouseY\n",
    "camelCaseVariable \n",
    "```\n",
    "\n",
    "In <bold>Snake Case</bold> breaks are seperated with the ```_``` symbol.\n",
    "```\n",
    "snake_case_variable\n",
    "computational_media\n",
    "```"
   ]
  },
  {
   "attachments": {},
   "cell_type": "markdown",
   "metadata": {},
   "source": [
    "### Processing Variables\n",
    "\n",
    "```\n",
    "width  //stores the width of the display window\n",
    "height  //stores the height of the display window\n",
    "mouseX //stores the mouse position on the x axis\n",
    "mouseY //stores the mouse position on the y axis\n",
    "```\n"
   ]
  },
  {
   "attachments": {},
   "cell_type": "markdown",
   "metadata": {},
   "source": [
    "### Data Structures\n",
    "\n",
    "A <bold>Data Structure</bold> is a collection of variables.  Grouping variables together allows for easy access to related data.  \n",
    "\n",
    "#### Arrays\n",
    "\n",
    "An array is an ordered set of data.  It appears as a variable and can hold multiple values of the same data type at the same time.  We can have arrays of booleans, integers, strings, etc.  Array's are defined with the <code>[]</code> symbol.\n",
    "\n",
    "```\n",
    "String [] names = {\"Michael\", \"Curry\", \"John\", \"Doe\"};\n",
    "float [] temperature = {88.9, 89.1, 89.0, 93.4, 95.2, 101.2};\n",
    "int [] transactions = new int[50];\n",
    "boolean [] isOff;\n",
    "```\n",
    "\n",
    "To access the elements of an array we use integers between the ```[]```.  Arrays start at 0, so it access the 1st element you use 0.  The second element is at position 1.\n",
    "\n",
    "```\n",
    "names[0]\n",
    "temperature[1]\n",
    "```\n",
    "#### Array Methods\n",
    "<ul>\n",
    "  <li>array.length: returns the number of elements in the array</li>\n",
    "  <li>sort(array): sorts the elements in alphabetic order</li>\n",
    "  <li>append(array,data): expands an array by one element and adds data value</li>\n",
    "  <li>subset(array, offset, length): creates a subset of an array at offset for specified length</li>\n",
    "  <li>expand(array, size): expands array by the size and retains the existing elements.  \n",
    "</ul>"
   ]
  },
  {
   "attachments": {},
   "cell_type": "markdown",
   "metadata": {},
   "source": [
    "#### Functions and Animation Loop\n",
    "\n",
    "A <b>function</b> is a set of code within a program that performs a specific task.  They are also reusable and can be used over and over again.  Functions are a powerful programming tool that make programs easier to read and change.<p>\n",
    "\n",
    "Processing has two main functions that form the backbone of the language:  <b><em>setup()<em></b> and <b><em>draw()<em></b>.\n",
    "\n",
    "The code inside <em>setup()<em> runs once when the program first starts.  The size of the display window is set along with intitalizing global variables used in the program.\n",
    "\n",
    "The code inside <em>draw()<em> runs continuously in a loop and draws one image to the display window at the end of each loop."
   ]
  }
 ],
 "metadata": {
  "kernelspec": {
   "display_name": "Python 3",
   "language": "python",
   "name": "python3"
  },
  "language_info": {
   "name": "python",
   "version": "3.9.1 (v3.9.1:1e5d33e9b9, Dec  7 2020, 12:10:52) \n[Clang 6.0 (clang-600.0.57)]"
  },
  "orig_nbformat": 4,
  "vscode": {
   "interpreter": {
    "hash": "949777d72b0d2535278d3dc13498b2535136f6dfe0678499012e853ee9abcab1"
   }
  }
 },
 "nbformat": 4,
 "nbformat_minor": 2
}
