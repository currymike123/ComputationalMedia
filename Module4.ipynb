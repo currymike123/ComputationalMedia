{
 "cells": [
  {
   "attachments": {},
   "cell_type": "markdown",
   "metadata": {},
   "source": [
    "# Functions\n",
    "****"
   ]
  },
  {
   "attachments": {},
   "cell_type": "markdown",
   "metadata": {},
   "source": [
    "A <b>function</b> is a set of code within a program that performs a specific task.  They are also reusable and can be used over and over again.  Functions are a powerful programming tool that make programs easier to read and change.  You may see them referred to as \"Procedures\", \"Methods\", or \"Subroutines\" but we will stick with calling them functions.\n",
    "\n",
    "A function can be imagined as a box with mechanisms inside that act on data.  There is typically an input into the box and code inside that utilizes the input to produce an output.\n",
    "\n",
    "A function will be defined by three parts:\n",
    "\n",
    "<ol>\n",
    "<li>Return type</li>\n",
    "<li>Function name</li>\n",
    "<li>Arguments</li>\n",
    "</ol>\n",
    "\n",
    "```\n",
    "returnType functionName(arguments){\n",
    "    //Code\n",
    "}\n",
    "```"
   ]
  },
  {
   "attachments": {},
   "cell_type": "markdown",
   "metadata": {},
   "source": [
    "Processing has two main functions that form the backbone of the language:  ```setup()``` and ```draw()```.\n",
    "\n",
    "The code inside ```setup()``` runs once when the program first starts.  The size of the display window size is set, along with initial drawing conditions, and the assignment of global variables.\n",
    "\n",
    "The code inside```draw()``` runs continuously in a loop and draws one image to the display window at the end of each loop.\n",
    "\n",
    "We've used functions each time we call a draw primitive, ```point()```,```line()```,```triangle()```,```quad``` are all functions. "
   ]
  },
  {
   "attachments": {},
   "cell_type": "markdown",
   "metadata": {},
   "source": [
    "#### Function declarations\n",
    "Draw and setup are preceded by the keyword void.  This is a Java programming keyword to specify that the function does not return a value. \n",
    " \n",
    "Functions can be preceded by other keywords including boolean, int, float, and all other primitive data types(Functions can also return objects but we will discuss that later.)  These keywords indicate what value the function returns.\n",
    "\n",
    "For example:\n",
    "```\n",
    "int addNumbers(){\n",
    "    int n = i + j;\n",
    "    return n;\n",
    "}\n",
    "```\n",
    "The addNumbers function will return an integer value.\n",
    "\n",
    "Or:\n",
    "\n",
    "```\n",
    "boolean isTrue(){\n",
    "    decision = true;\n",
    "    return decision;\n",
    "}\n",
    "```\n",
    "The isTrue function will return a boolean value.\n"
   ]
  },
  {
   "attachments": {},
   "cell_type": "markdown",
   "metadata": {},
   "source": [
    "#### Arguments and Parameters.\n",
    "\n",
    "Arguments are the variables that live inside the parentheses in a function.  Parameters are the values that are passed to the function.  It's a \n",
    "\n",
    "Using the addNumbers function example, we can pass the variables i and j as arguments.  The values that i and j contain are the parameters. \n",
    "\n",
    "```\n",
    "int addNumbers(int i, int j){\n",
    "    int n = i + j;\n",
    "    return n;\n",
    "}\n",
    "\n",
    "addNumbers(5,6); \n",
    "```\n",
    "Passing the parameter values 5 and 6 to the arguments of the addNumbers function.\n",
    "\n",
    "The difference between arguments and parameters is not overly important for our current work.  If you confuse them do not worry.  Understanding how to create a function that excepts values and returns values is the knowledge to take away."
   ]
  }
 ],
 "metadata": {
  "kernelspec": {
   "display_name": "Python 3",
   "language": "python",
   "name": "python3"
  },
  "language_info": {
   "name": "python",
   "version": "3.9.1 (v3.9.1:1e5d33e9b9, Dec  7 2020, 12:10:52) \n[Clang 6.0 (clang-600.0.57)]"
  },
  "orig_nbformat": 4,
  "vscode": {
   "interpreter": {
    "hash": "949777d72b0d2535278d3dc13498b2535136f6dfe0678499012e853ee9abcab1"
   }
  }
 },
 "nbformat": 4,
 "nbformat_minor": 2
}
