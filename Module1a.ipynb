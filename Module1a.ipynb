{
 "cells": [
  {
   "attachments": {},
   "cell_type": "markdown",
   "metadata": {},
   "source": [
    "# Drawing Primitives\n",
    "\n",
    "****"
   ]
  },
  {
   "attachments": {},
   "cell_type": "markdown",
   "metadata": {},
   "source": [
    "Processing is built around the idea of a sketchbook.  To reenforce this idea, Processing titles each new project <b>sketch</b> by default.  Just like a traditional drawing sketchbook, initial sketches are made up of primitive shapes that are assembled into higher levels of complexity. "
   ]
  },
  {
   "attachments": {},
   "cell_type": "markdown",
   "metadata": {},
   "source": [
    "### Display Window\n",
    "\n",
    "The first step is to decide how large of a page you want to work with.  The sketchbook page is called the <b>display window</b> in Processing.\n",
    "\n",
    "The display window is controlled by the ```size()``` function which takes two parameters that set the width and height.\n",
    "\n",
    "```\n",
    "size(width,height);\n",
    "```\n",
    "To create a display window of 100 x 100 pixels.\n",
    "```\n",
    "size(100,100);\n",
    "```"
   ]
  },
  {
   "attachments": {},
   "cell_type": "markdown",
   "metadata": {},
   "source": [
    "The display window uses the Cartesian coordinate system.  The origin of ```(0,0)``` is located at the top right corner of the screen."
   ]
  },
  {
   "attachments": {},
   "cell_type": "markdown",
   "metadata": {},
   "source": [
    "<img src=\"Images/Coordinate_System.png\">"
   ]
  },
  {
   "attachments": {},
   "cell_type": "markdown",
   "metadata": {},
   "source": [
    "In digital images we use pixels as containers for color information.  Each pixel will either store a brightness value when you have a black and white image or red, green, or blue values when you have a color image.  Each value will always be a whole number (0,1,2,3,4,5,...).\n",
    "\n",
    "Each position in the display window stores a pixel value."
   ]
  },
  {
   "attachments": {},
   "cell_type": "markdown",
   "metadata": {},
   "source": [
    "### Primitive Shapes\n",
    "\n",
    "#### Point\n",
    "\n",
    "The simplest element you can draw is a point.  The point sets the color value of a pixel in the display window.  You use the ```point()``` function which takes two parameters.\n",
    "\n",
    "```\n",
    "point(x, y);\n",
    "```\n",
    "#### Line\n",
    "\n",
    "A simpler way is to us the ```line()``` function.  This function takes four parameters for the two end points of the line.\n",
    "\n",
    "```\n",
    "line(x1, y1, x2, y2);\n",
    "```\n",
    "\n",
    "#### Triangle\n",
    "\n",
    "The ```triangle()``` function takes six parameters for each point.\n",
    "\n",
    "```\n",
    "triangle(x1, y1, x2, y2, x3, y3);\n",
    "```\n",
    "\n",
    "#### Quad\n",
    "\n",
    "The ```quad()``` function produces a four-sided polygon which takes eight parameters.\n",
    "\n",
    "```\n",
    "quad(x1, y1, x2, y2, x3, y3, x4, y4);\n",
    "```\n",
    "\n",
    "#### Rectangle\n",
    "\n",
    "The rectangle and the ellipse functions work differently than the previous shapes.  There are four parameters set the position and dimensions of the shape.  \n",
    "\n",
    "For a rectangle the first two parameters set the top left hand corner and the second two the width and height.\n",
    "\n",
    "```\n",
    "rect(x, y, width, height);\n",
    "```\n",
    "\n",
    "#### Ellipse\n",
    "\n",
    "The ```ellipse()``` function takes four parameters.  The first two set the location of the center of the ellipse and the second two set the width and the height.\n",
    "\n",
    "```\n",
    "ellipse(x, y, width, height);\n",
    "```\n",
    "\n",
    "#### Curve (bezier)\n",
    "\n",
    "The ```bezier()``` function draws curved lines. The beizer takes eight parameters, two points and two control points.\n",
    "\n",
    "```\n",
    "bezier(x1, y1, cx1, cy1, cx2, cy2, x2, y2);\n",
    "```\n",
    "\n",
    "The curve is drawn between the first and fourth points.  \n",
    "\n"
   ]
  }
 ],
 "metadata": {
  "kernelspec": {
   "display_name": "Python 3",
   "language": "python",
   "name": "python3"
  },
  "language_info": {
   "name": "python",
   "version": "3.9.1 (v3.9.1:1e5d33e9b9, Dec  7 2020, 12:10:52) \n[Clang 6.0 (clang-600.0.57)]"
  },
  "orig_nbformat": 4,
  "vscode": {
   "interpreter": {
    "hash": "949777d72b0d2535278d3dc13498b2535136f6dfe0678499012e853ee9abcab1"
   }
  }
 },
 "nbformat": 4,
 "nbformat_minor": 2
}
